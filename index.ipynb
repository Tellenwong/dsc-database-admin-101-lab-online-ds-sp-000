{
 "cells": [
  {
   "cell_type": "markdown",
   "metadata": {},
   "source": [
    "# Database Admin 101 - Lab\n",
    "\n",
    "## Introduction \n",
    "\n",
    "In this lab, you'll go through the process of designing and creating a database. From there, you'll begin to populate this table with mock data provided to you.\n",
    "\n",
    "## Objectives\n",
    "\n",
    "You will be able to:\n",
    "\n",
    "* Use knowledge of the structure of databases to create a database and populate it"
   ]
  },
  {
   "cell_type": "markdown",
   "metadata": {},
   "source": [
    "## The Scenario\n",
    "\n",
    "You are looking to design a database for a school that will house various information from student grades to contact information, class roster lists and attendance. First, think of how you would design such a database. What tables would you include? What columns would each table have? What would be the primary means to join said tables?"
   ]
  },
  {
   "cell_type": "markdown",
   "metadata": {},
   "source": [
    "## Creating the Database\n",
    "\n",
    "Now that you've put a little thought into how you might design your database, it's time to go ahead and create it! Start by import the necessary packages. Then, create a database called **school.sqlite**."
   ]
  },
  {
   "cell_type": "code",
   "execution_count": 27,
   "metadata": {
    "ExecuteTime": {
     "end_time": "2019-12-27T10:16:47.167928Z",
     "start_time": "2019-12-27T10:16:47.162188Z"
    }
   },
   "outputs": [],
   "source": [
    "import sqlite3\n",
    "import pandas as pd"
   ]
  },
  {
   "cell_type": "code",
   "execution_count": 28,
   "metadata": {
    "ExecuteTime": {
     "end_time": "2019-12-27T10:16:47.661387Z",
     "start_time": "2019-12-27T10:16:47.651069Z"
    },
    "collapsed": true
   },
   "outputs": [],
   "source": [
    "conn = sqlite3.connect('school.sqlite') #Creates the school.sqlite database"
   ]
  },
  {
   "cell_type": "markdown",
   "metadata": {},
   "source": [
    "## Create a Table for Contact Information\n",
    "\n",
    "Create a table called contactInfo to house contact information for both students and staff. Be sure to include columns for first name, last name, role (student/staff), telephone number, street, city, state, and zipcode. Be sure to also create a primary key for the table. "
   ]
  },
  {
   "cell_type": "code",
   "execution_count": 29,
   "metadata": {
    "ExecuteTime": {
     "end_time": "2019-12-27T10:16:48.645951Z",
     "start_time": "2019-12-27T10:16:48.622389Z"
    }
   },
   "outputs": [
    {
     "ename": "OperationalError",
     "evalue": "table contactinfo already exists",
     "output_type": "error",
     "traceback": [
      "\u001b[0;31m---------------------------------------------------------------------------\u001b[0m",
      "\u001b[0;31mOperationalError\u001b[0m                          Traceback (most recent call last)",
      "\u001b[0;32m<ipython-input-29-c31c67d8c498>\u001b[0m in \u001b[0;36m<module>\u001b[0;34m()\u001b[0m\n\u001b[1;32m     10\u001b[0m                                          \u001b[0mstate\u001b[0m \u001b[0mTEXT\u001b[0m\u001b[0;34m\u001b[0m\u001b[0m\n\u001b[1;32m     11\u001b[0m                                          \u001b[0mzipCode\u001b[0m \u001b[0mTEXT\u001b[0m\u001b[0;34m\u001b[0m\u001b[0m\n\u001b[0;32m---> 12\u001b[0;31m                                          );\"\"\")\n\u001b[0m",
      "\u001b[0;31mOperationalError\u001b[0m: table contactinfo already exists"
     ]
    }
   ],
   "source": [
    "cur = conn.cursor()\n",
    "cur.execute(\"\"\"CREATE TABLE contactinfo (\n",
    "                                         userID INTEGER PRIMARY KEY,\n",
    "                                         firstName TEXT,\n",
    "                                         lastName TEXT,\n",
    "                                         role TEXT,\n",
    "                                         phoneNum INTEGER\n",
    "                                         street TEXT\n",
    "                                         city TEXT\n",
    "                                         state TEXT\n",
    "                                         zipCode TEXT\n",
    "                                         );\"\"\")"
   ]
  },
  {
   "cell_type": "markdown",
   "metadata": {},
   "source": [
    "## Populate the Table\n",
    "\n",
    "Below, code is provided for you in order to load a list of dictionaries. Briefly examine the list. Each dictionary in the list will serve as an entry for your contact info table. Once you've briefly investigated the structure of this data, write a for loop to iterate through the list and create an entry in your table for each person's contact info."
   ]
  },
  {
   "cell_type": "code",
   "execution_count": 30,
   "metadata": {
    "ExecuteTime": {
     "end_time": "2019-12-27T10:16:53.281357Z",
     "start_time": "2019-12-27T10:16:53.267715Z"
    }
   },
   "outputs": [
    {
     "name": "stdout",
     "output_type": "stream",
     "text": [
      "[{'firstName': 'Christine', 'lastName': 'Holden', 'role': 'staff', 'telephone ': 2035687697, 'street': '1672 Whitman Court', 'city': 'Stamford', 'state': 'CT', 'zipcode ': '06995'}, {'firstName': 'Christopher', 'lastName': 'Warren', 'role': 'student', 'telephone ': 2175150957, 'street': '1935 University Hill Road', 'city': 'Champaign', 'state': 'IL', 'zipcode ': '61938'}, {'firstName': 'Linda', 'lastName': 'Jacobson', 'role': 'staff', 'telephone ': 4049446441, 'street': '479 Musgrave Street', 'city': 'Atlanta', 'state': 'GA', 'zipcode ': '30303'}, {'firstName': 'Andrew', 'lastName': 'Stepp', 'role': 'student', 'telephone ': 7866419252, 'street': '2981 Lamberts Branch Road', 'city': 'Hialeah', 'state': 'Fl', 'zipcode ': '33012'}, {'firstName': 'Jane', 'lastName': 'Evans', 'role': 'student', 'telephone ': 3259909290, 'street': '1461 Briarhill Lane', 'city': 'Abilene', 'state': 'TX', 'zipcode ': '79602'}, {'firstName': 'Jane', 'lastName': 'Evans', 'role': 'student', 'telephone ': 3259909290, 'street': '1461 Briarhill Lane', 'city': 'Abilene', 'state': 'TX', 'zipcode ': '79602'}, {'firstName': 'Mary', 'lastName': 'Raines', 'role': 'student', 'telephone ': 9075772295, 'street': '3975 Jerry Toth Drive', 'city': 'Ninilchik', 'state': 'AK', 'zipcode ': '99639'}, {'firstName': 'Ed', 'lastName': 'Lyman', 'role': 'student', 'telephone ': 5179695576, 'street': '3478 Be Sreet', 'city': 'Lansing', 'state': 'MI', 'zipcode ': '48933'}]\n"
     ]
    }
   ],
   "source": [
    "# Code to load the list of dictionaries; just run this cell\n",
    "import pickle\n",
    "\n",
    "with open('contact_list.pickle', 'rb') as f:\n",
    "    contacts = pickle.load(f)\n",
    "\n",
    "print(contacts)"
   ]
  },
  {
   "cell_type": "code",
   "execution_count": 31,
   "metadata": {
    "ExecuteTime": {
     "end_time": "2019-12-27T10:16:55.445857Z",
     "start_time": "2019-12-27T10:16:55.433211Z"
    }
   },
   "outputs": [],
   "source": [
    "# Your code to iterate over the contact list and populate the contactInfo table here\n",
    "for contact in contacts:\n",
    "    firstName = contact['firstName']\n",
    "    lastName = contact['lastName']\n",
    "    role = contact['role']\n",
    "    telephone = contact['telephone ']\n",
    "    street = contact['street']\n",
    "    city = contact['city']\n",
    "    state = contact['state']\n",
    "    zipCode = contact['zipcode ']\n",
    "    cur.execute(\"\"\"INSERT INTO contactinfo (firstName, lastName, role, telephone, street, city, state, zipCode)\n",
    "                  VALUES ('{}', '{}', '{}', '{}', '{}', '{}', '{}', '{}');\"\"\".format(firstName, lastName, role, telephone, street, city, state, zipCode) )\n",
    "    "
   ]
  },
  {
   "cell_type": "markdown",
   "metadata": {},
   "source": [
    "**Query the Table to Ensure it is populated**"
   ]
  },
  {
   "cell_type": "code",
   "execution_count": 32,
   "metadata": {
    "ExecuteTime": {
     "end_time": "2019-12-27T10:16:56.695513Z",
     "start_time": "2019-12-27T10:16:56.604303Z"
    }
   },
   "outputs": [
    {
     "data": {
      "text/html": [
       "<div>\n",
       "<style scoped>\n",
       "    .dataframe tbody tr th:only-of-type {\n",
       "        vertical-align: middle;\n",
       "    }\n",
       "\n",
       "    .dataframe tbody tr th {\n",
       "        vertical-align: top;\n",
       "    }\n",
       "\n",
       "    .dataframe thead th {\n",
       "        text-align: right;\n",
       "    }\n",
       "</style>\n",
       "<table border=\"1\" class=\"dataframe\">\n",
       "  <thead>\n",
       "    <tr style=\"text-align: right;\">\n",
       "      <th></th>\n",
       "      <th>userId</th>\n",
       "      <th>firstName</th>\n",
       "      <th>lastName</th>\n",
       "      <th>role</th>\n",
       "      <th>telephone</th>\n",
       "      <th>street</th>\n",
       "      <th>city</th>\n",
       "      <th>state</th>\n",
       "      <th>zipcode</th>\n",
       "    </tr>\n",
       "  </thead>\n",
       "  <tbody>\n",
       "    <tr>\n",
       "      <th>0</th>\n",
       "      <td>1</td>\n",
       "      <td>Christine</td>\n",
       "      <td>Holden</td>\n",
       "      <td>staff</td>\n",
       "      <td>2035687697</td>\n",
       "      <td>1672 Whitman Court</td>\n",
       "      <td>Stamford</td>\n",
       "      <td>CT</td>\n",
       "      <td>06995</td>\n",
       "    </tr>\n",
       "    <tr>\n",
       "      <th>1</th>\n",
       "      <td>2</td>\n",
       "      <td>Christopher</td>\n",
       "      <td>Warren</td>\n",
       "      <td>student</td>\n",
       "      <td>2175150957</td>\n",
       "      <td>1935 University Hill Road</td>\n",
       "      <td>Champaign</td>\n",
       "      <td>IL</td>\n",
       "      <td>61938</td>\n",
       "    </tr>\n",
       "    <tr>\n",
       "      <th>2</th>\n",
       "      <td>3</td>\n",
       "      <td>Linda</td>\n",
       "      <td>Jacobson</td>\n",
       "      <td>staff</td>\n",
       "      <td>4049446441</td>\n",
       "      <td>479 Musgrave Street</td>\n",
       "      <td>Atlanta</td>\n",
       "      <td>GA</td>\n",
       "      <td>30303</td>\n",
       "    </tr>\n",
       "    <tr>\n",
       "      <th>3</th>\n",
       "      <td>4</td>\n",
       "      <td>Andrew</td>\n",
       "      <td>Stepp</td>\n",
       "      <td>student</td>\n",
       "      <td>7866419252</td>\n",
       "      <td>2981 Lamberts Branch Road</td>\n",
       "      <td>Hialeah</td>\n",
       "      <td>Fl</td>\n",
       "      <td>33012</td>\n",
       "    </tr>\n",
       "    <tr>\n",
       "      <th>4</th>\n",
       "      <td>7</td>\n",
       "      <td>Mary</td>\n",
       "      <td>Raines</td>\n",
       "      <td>student</td>\n",
       "      <td>9075772295</td>\n",
       "      <td>3975 Jerry Toth Drive</td>\n",
       "      <td>Ninilchik</td>\n",
       "      <td>AK</td>\n",
       "      <td>99639</td>\n",
       "    </tr>\n",
       "    <tr>\n",
       "      <th>5</th>\n",
       "      <td>8</td>\n",
       "      <td>Ed</td>\n",
       "      <td>Lyman</td>\n",
       "      <td>student</td>\n",
       "      <td>5179695576</td>\n",
       "      <td>2910 Simpson Avenue</td>\n",
       "      <td>York</td>\n",
       "      <td>PA</td>\n",
       "      <td>17403</td>\n",
       "    </tr>\n",
       "    <tr>\n",
       "      <th>6</th>\n",
       "      <td>9</td>\n",
       "      <td>Christine</td>\n",
       "      <td>Holden</td>\n",
       "      <td>staff</td>\n",
       "      <td>2035687697</td>\n",
       "      <td>1672 Whitman Court</td>\n",
       "      <td>Stamford</td>\n",
       "      <td>CT</td>\n",
       "      <td>06995</td>\n",
       "    </tr>\n",
       "    <tr>\n",
       "      <th>7</th>\n",
       "      <td>10</td>\n",
       "      <td>Christopher</td>\n",
       "      <td>Warren</td>\n",
       "      <td>student</td>\n",
       "      <td>2175150957</td>\n",
       "      <td>1935 University Hill Road</td>\n",
       "      <td>Champaign</td>\n",
       "      <td>IL</td>\n",
       "      <td>61938</td>\n",
       "    </tr>\n",
       "    <tr>\n",
       "      <th>8</th>\n",
       "      <td>11</td>\n",
       "      <td>Linda</td>\n",
       "      <td>Jacobson</td>\n",
       "      <td>staff</td>\n",
       "      <td>4049446441</td>\n",
       "      <td>479 Musgrave Street</td>\n",
       "      <td>Atlanta</td>\n",
       "      <td>GA</td>\n",
       "      <td>30303</td>\n",
       "    </tr>\n",
       "    <tr>\n",
       "      <th>9</th>\n",
       "      <td>12</td>\n",
       "      <td>Andrew</td>\n",
       "      <td>Stepp</td>\n",
       "      <td>student</td>\n",
       "      <td>7866419252</td>\n",
       "      <td>2981 Lamberts Branch Road</td>\n",
       "      <td>Hialeah</td>\n",
       "      <td>Fl</td>\n",
       "      <td>33012</td>\n",
       "    </tr>\n",
       "    <tr>\n",
       "      <th>10</th>\n",
       "      <td>13</td>\n",
       "      <td>Jane</td>\n",
       "      <td>Evans</td>\n",
       "      <td>student</td>\n",
       "      <td>3259909290</td>\n",
       "      <td>1461 Briarhill Lane</td>\n",
       "      <td>Abilene</td>\n",
       "      <td>TX</td>\n",
       "      <td>79602</td>\n",
       "    </tr>\n",
       "    <tr>\n",
       "      <th>11</th>\n",
       "      <td>14</td>\n",
       "      <td>Jane</td>\n",
       "      <td>Evans</td>\n",
       "      <td>student</td>\n",
       "      <td>3259909290</td>\n",
       "      <td>1461 Briarhill Lane</td>\n",
       "      <td>Abilene</td>\n",
       "      <td>TX</td>\n",
       "      <td>79602</td>\n",
       "    </tr>\n",
       "    <tr>\n",
       "      <th>12</th>\n",
       "      <td>15</td>\n",
       "      <td>Mary</td>\n",
       "      <td>Raines</td>\n",
       "      <td>student</td>\n",
       "      <td>9075772295</td>\n",
       "      <td>3975 Jerry Toth Drive</td>\n",
       "      <td>Ninilchik</td>\n",
       "      <td>AK</td>\n",
       "      <td>99639</td>\n",
       "    </tr>\n",
       "    <tr>\n",
       "      <th>13</th>\n",
       "      <td>16</td>\n",
       "      <td>Ed</td>\n",
       "      <td>Lyman</td>\n",
       "      <td>student</td>\n",
       "      <td>5179695576</td>\n",
       "      <td>3478 Be Sreet</td>\n",
       "      <td>Lansing</td>\n",
       "      <td>MI</td>\n",
       "      <td>48933</td>\n",
       "    </tr>\n",
       "    <tr>\n",
       "      <th>14</th>\n",
       "      <td>17</td>\n",
       "      <td>Christine</td>\n",
       "      <td>Holden</td>\n",
       "      <td>staff</td>\n",
       "      <td>2035687697</td>\n",
       "      <td>1672 Whitman Court</td>\n",
       "      <td>Stamford</td>\n",
       "      <td>CT</td>\n",
       "      <td>06995</td>\n",
       "    </tr>\n",
       "    <tr>\n",
       "      <th>15</th>\n",
       "      <td>18</td>\n",
       "      <td>Christopher</td>\n",
       "      <td>Warren</td>\n",
       "      <td>student</td>\n",
       "      <td>2175150957</td>\n",
       "      <td>1935 University Hill Road</td>\n",
       "      <td>Champaign</td>\n",
       "      <td>IL</td>\n",
       "      <td>61938</td>\n",
       "    </tr>\n",
       "    <tr>\n",
       "      <th>16</th>\n",
       "      <td>19</td>\n",
       "      <td>Linda</td>\n",
       "      <td>Jacobson</td>\n",
       "      <td>staff</td>\n",
       "      <td>4049446441</td>\n",
       "      <td>479 Musgrave Street</td>\n",
       "      <td>Atlanta</td>\n",
       "      <td>GA</td>\n",
       "      <td>30303</td>\n",
       "    </tr>\n",
       "    <tr>\n",
       "      <th>17</th>\n",
       "      <td>20</td>\n",
       "      <td>Andrew</td>\n",
       "      <td>Stepp</td>\n",
       "      <td>student</td>\n",
       "      <td>7866419252</td>\n",
       "      <td>2981 Lamberts Branch Road</td>\n",
       "      <td>Hialeah</td>\n",
       "      <td>Fl</td>\n",
       "      <td>33012</td>\n",
       "    </tr>\n",
       "    <tr>\n",
       "      <th>18</th>\n",
       "      <td>21</td>\n",
       "      <td>Jane</td>\n",
       "      <td>Evans</td>\n",
       "      <td>student</td>\n",
       "      <td>3259909290</td>\n",
       "      <td>1461 Briarhill Lane</td>\n",
       "      <td>Abilene</td>\n",
       "      <td>TX</td>\n",
       "      <td>79602</td>\n",
       "    </tr>\n",
       "    <tr>\n",
       "      <th>19</th>\n",
       "      <td>22</td>\n",
       "      <td>Jane</td>\n",
       "      <td>Evans</td>\n",
       "      <td>student</td>\n",
       "      <td>3259909290</td>\n",
       "      <td>1461 Briarhill Lane</td>\n",
       "      <td>Abilene</td>\n",
       "      <td>TX</td>\n",
       "      <td>79602</td>\n",
       "    </tr>\n",
       "    <tr>\n",
       "      <th>20</th>\n",
       "      <td>23</td>\n",
       "      <td>Mary</td>\n",
       "      <td>Raines</td>\n",
       "      <td>student</td>\n",
       "      <td>9075772295</td>\n",
       "      <td>3975 Jerry Toth Drive</td>\n",
       "      <td>Ninilchik</td>\n",
       "      <td>AK</td>\n",
       "      <td>99639</td>\n",
       "    </tr>\n",
       "    <tr>\n",
       "      <th>21</th>\n",
       "      <td>24</td>\n",
       "      <td>Ed</td>\n",
       "      <td>Lyman</td>\n",
       "      <td>student</td>\n",
       "      <td>5179695576</td>\n",
       "      <td>3478 Be Sreet</td>\n",
       "      <td>Lansing</td>\n",
       "      <td>MI</td>\n",
       "      <td>48933</td>\n",
       "    </tr>\n",
       "  </tbody>\n",
       "</table>\n",
       "</div>"
      ],
      "text/plain": [
       "    userId    firstName  lastName     role   telephone  \\\n",
       "0        1    Christine    Holden    staff  2035687697   \n",
       "1        2  Christopher    Warren  student  2175150957   \n",
       "2        3        Linda  Jacobson    staff  4049446441   \n",
       "3        4       Andrew     Stepp  student  7866419252   \n",
       "4        7         Mary    Raines  student  9075772295   \n",
       "5        8           Ed     Lyman  student  5179695576   \n",
       "6        9    Christine    Holden    staff  2035687697   \n",
       "7       10  Christopher    Warren  student  2175150957   \n",
       "8       11        Linda  Jacobson    staff  4049446441   \n",
       "9       12       Andrew     Stepp  student  7866419252   \n",
       "10      13         Jane     Evans  student  3259909290   \n",
       "11      14         Jane     Evans  student  3259909290   \n",
       "12      15         Mary    Raines  student  9075772295   \n",
       "13      16           Ed     Lyman  student  5179695576   \n",
       "14      17    Christine    Holden    staff  2035687697   \n",
       "15      18  Christopher    Warren  student  2175150957   \n",
       "16      19        Linda  Jacobson    staff  4049446441   \n",
       "17      20       Andrew     Stepp  student  7866419252   \n",
       "18      21         Jane     Evans  student  3259909290   \n",
       "19      22         Jane     Evans  student  3259909290   \n",
       "20      23         Mary    Raines  student  9075772295   \n",
       "21      24           Ed     Lyman  student  5179695576   \n",
       "\n",
       "                       street       city state zipcode  \n",
       "0          1672 Whitman Court   Stamford    CT   06995  \n",
       "1   1935 University Hill Road  Champaign    IL   61938  \n",
       "2         479 Musgrave Street    Atlanta    GA   30303  \n",
       "3   2981 Lamberts Branch Road    Hialeah    Fl   33012  \n",
       "4       3975 Jerry Toth Drive  Ninilchik    AK   99639  \n",
       "5         2910 Simpson Avenue       York    PA   17403  \n",
       "6          1672 Whitman Court   Stamford    CT   06995  \n",
       "7   1935 University Hill Road  Champaign    IL   61938  \n",
       "8         479 Musgrave Street    Atlanta    GA   30303  \n",
       "9   2981 Lamberts Branch Road    Hialeah    Fl   33012  \n",
       "10        1461 Briarhill Lane    Abilene    TX   79602  \n",
       "11        1461 Briarhill Lane    Abilene    TX   79602  \n",
       "12      3975 Jerry Toth Drive  Ninilchik    AK   99639  \n",
       "13              3478 Be Sreet    Lansing    MI   48933  \n",
       "14         1672 Whitman Court   Stamford    CT   06995  \n",
       "15  1935 University Hill Road  Champaign    IL   61938  \n",
       "16        479 Musgrave Street    Atlanta    GA   30303  \n",
       "17  2981 Lamberts Branch Road    Hialeah    Fl   33012  \n",
       "18        1461 Briarhill Lane    Abilene    TX   79602  \n",
       "19        1461 Briarhill Lane    Abilene    TX   79602  \n",
       "20      3975 Jerry Toth Drive  Ninilchik    AK   99639  \n",
       "21              3478 Be Sreet    Lansing    MI   48933  "
      ]
     },
     "execution_count": 32,
     "metadata": {},
     "output_type": "execute_result"
    }
   ],
   "source": [
    "cur.execute(\"\"\"SELECT * FROM contactInfo;\"\"\")\n",
    "df = pd.DataFrame(cur.fetchall())\n",
    "df.columns = [x[0] for x in cur.description]\n",
    "df"
   ]
  },
  {
   "cell_type": "markdown",
   "metadata": {},
   "source": [
    "## Commit Your Changes to the Database\n",
    "\n",
    "Persist your changes by committing them to the database."
   ]
  },
  {
   "cell_type": "code",
   "execution_count": 33,
   "metadata": {
    "ExecuteTime": {
     "end_time": "2019-12-27T10:16:57.805935Z",
     "start_time": "2019-12-27T10:16:57.797688Z"
    },
    "collapsed": true
   },
   "outputs": [],
   "source": [
    "conn.commit()"
   ]
  },
  {
   "cell_type": "markdown",
   "metadata": {},
   "source": [
    "## Create a Table for Student Grades\n",
    "\n",
    "Create a new table in the database called \"grades\". In the table, include the following fields: userId, courseId, grade.\n",
    "\n",
    "** This problem is a bit more tricky and will require a dual key. (A nuance you have yet to see.)\n",
    "Here's how to do that:\n",
    "\n",
    "```SQL\n",
    "CREATE TABLE table_name(\n",
    "   column_1 INTEGER NOT NULL,\n",
    "   column_2 INTEGER NOT NULL,\n",
    "   ...\n",
    "   PRIMARY KEY(column_1,column_2,...)\n",
    ");\n",
    "```"
   ]
  },
  {
   "cell_type": "code",
   "execution_count": 34,
   "metadata": {
    "ExecuteTime": {
     "end_time": "2019-12-27T10:16:58.769025Z",
     "start_time": "2019-12-27T10:16:58.750366Z"
    }
   },
   "outputs": [
    {
     "ename": "OperationalError",
     "evalue": "table grades already exists",
     "output_type": "error",
     "traceback": [
      "\u001b[0;31m---------------------------------------------------------------------------\u001b[0m",
      "\u001b[0;31mOperationalError\u001b[0m                          Traceback (most recent call last)",
      "\u001b[0;32m<ipython-input-34-f2618e544b0d>\u001b[0m in \u001b[0;36m<module>\u001b[0;34m()\u001b[0m\n\u001b[1;32m      5\u001b[0m                    \u001b[0mPRIMARY\u001b[0m \u001b[0mKEY\u001b[0m\u001b[0;34m(\u001b[0m\u001b[0muserID\u001b[0m\u001b[0;34m,\u001b[0m \u001b[0mcourseID\u001b[0m\u001b[0;34m)\u001b[0m\u001b[0;34m\u001b[0m\u001b[0m\n\u001b[1;32m      6\u001b[0m                    );\n\u001b[0;32m----> 7\u001b[0;31m             \"\"\")\n\u001b[0m",
      "\u001b[0;31mOperationalError\u001b[0m: table grades already exists"
     ]
    }
   ],
   "source": [
    "cur.execute(\"\"\"CREATE TABLE grades(\n",
    "                   userId INTEGER NOT NULL,\n",
    "                   courseId INTEGER NOT NULL,\n",
    "                   grade INTEGER\n",
    "                   PRIMARY KEY(userID, courseID)\n",
    "                   );\n",
    "            \"\"\")"
   ]
  },
  {
   "cell_type": "markdown",
   "metadata": {},
   "source": [
    "## Remove Duplicate Entries\n",
    "\n",
    "An analyst just realized that there is a duplicate entry in the contactInfo table! Find and remove it."
   ]
  },
  {
   "cell_type": "code",
   "execution_count": 35,
   "metadata": {
    "ExecuteTime": {
     "end_time": "2019-12-27T10:17:01.405196Z",
     "start_time": "2019-12-27T10:17:01.392085Z"
    }
   },
   "outputs": [
    {
     "data": {
      "text/plain": [
       "[('Andrew', 'Stepp', 7866419252, 3),\n",
       " ('Christine', 'Holden', 2035687697, 3),\n",
       " ('Christopher', 'Warren', 2175150957, 3),\n",
       " ('Ed', 'Lyman', 5179695576, 3),\n",
       " ('Jane', 'Evans', 3259909290, 4),\n",
       " ('Linda', 'Jacobson', 4049446441, 3),\n",
       " ('Mary', 'Raines', 9075772295, 3)]"
      ]
     },
     "execution_count": 35,
     "metadata": {},
     "output_type": "execute_result"
    }
   ],
   "source": [
    "#find the duplicate entry\n",
    "cur.execute(\"\"\"SELECT firstName, lastName, telephone, COUNT(*)\n",
    "               FROM contactInfo\n",
    "               GROUP BY 1,2,3\n",
    "               HAVING COUNT(*) > 1;\"\"\").fetchall()"
   ]
  },
  {
   "cell_type": "code",
   "execution_count": 36,
   "metadata": {
    "ExecuteTime": {
     "end_time": "2019-12-27T10:18:08.675274Z",
     "start_time": "2019-12-27T10:18:08.658163Z"
    }
   },
   "outputs": [
    {
     "data": {
      "text/plain": [
       "<sqlite3.Cursor at 0x11a9b4ab0>"
      ]
     },
     "execution_count": 36,
     "metadata": {},
     "output_type": "execute_result"
    }
   ],
   "source": [
    "#delete the duplicate entry\n",
    "cur.execute(\"\"\"DELETE FROM contactInfo WHERE telephone = 3259909290\"\"\")"
   ]
  },
  {
   "cell_type": "code",
   "execution_count": 37,
   "metadata": {
    "ExecuteTime": {
     "end_time": "2019-12-27T10:19:21.977400Z",
     "start_time": "2019-12-27T10:19:21.968007Z"
    }
   },
   "outputs": [
    {
     "data": {
      "text/plain": [
       "[('Andrew', 'Stepp', 7866419252, 3),\n",
       " ('Christine', 'Holden', 2035687697, 3),\n",
       " ('Christopher', 'Warren', 2175150957, 3),\n",
       " ('Ed', 'Lyman', 5179695576, 3),\n",
       " ('Linda', 'Jacobson', 4049446441, 3),\n",
       " ('Mary', 'Raines', 9075772295, 3)]"
      ]
     },
     "execution_count": 37,
     "metadata": {},
     "output_type": "execute_result"
    }
   ],
   "source": [
    "#check that your deleted entry was indeed removed\n",
    "cur.execute(\"\"\"SELECT firstName, lastName, telephone, COUNT(*)\n",
    "               FROM contactInfo\n",
    "               GROUP BY 1,2,3\n",
    "               HAVING COUNT(*) > 1;\"\"\").fetchall()"
   ]
  },
  {
   "cell_type": "markdown",
   "metadata": {},
   "source": [
    "## Updating an Address\n",
    "\n",
    "Ed Lyman just moved to `2910 Simpson Avenue York, PA 17403`. Update his address accordingly."
   ]
  },
  {
   "cell_type": "code",
   "execution_count": 45,
   "metadata": {
    "ExecuteTime": {
     "end_time": "2019-12-27T10:23:34.667344Z",
     "start_time": "2019-12-27T10:23:34.659824Z"
    }
   },
   "outputs": [
    {
     "ename": "SyntaxError",
     "evalue": "EOF while scanning triple-quoted string literal (<ipython-input-45-9ffae15f878e>, line 5)",
     "output_type": "error",
     "traceback": [
      "\u001b[0;36m  File \u001b[0;32m\"<ipython-input-45-9ffae15f878e>\"\u001b[0;36m, line \u001b[0;32m5\u001b[0m\n\u001b[0;31m    SET state = 'PA'\u001b[0m\n\u001b[0m                    \n^\u001b[0m\n\u001b[0;31mSyntaxError\u001b[0m\u001b[0;31m:\u001b[0m EOF while scanning triple-quoted string literal\n"
     ]
    }
   ],
   "source": [
    "#update Ed's address\n",
    "cur.execute(\"\"\"UPDATE contactInfo\n",
    "               SET street = '2910 Simpson Avenue',\n",
    "               SET city = 'York',\n",
    "               SET state = 'PA'"
   ]
  },
  {
   "cell_type": "code",
   "execution_count": 24,
   "metadata": {
    "collapsed": true
   },
   "outputs": [],
   "source": [
    "#Your code here; Query the database to ensure the change was made"
   ]
  },
  {
   "cell_type": "markdown",
   "metadata": {},
   "source": [
    "## Commit Your Changes to the Database\n",
    "\n",
    "Once again, persist your changes by committing them to the database."
   ]
  },
  {
   "cell_type": "code",
   "execution_count": 46,
   "metadata": {
    "ExecuteTime": {
     "end_time": "2019-12-27T10:23:51.653862Z",
     "start_time": "2019-12-27T10:23:51.644784Z"
    },
    "collapsed": true
   },
   "outputs": [],
   "source": [
    "conn.commit()"
   ]
  },
  {
   "cell_type": "markdown",
   "metadata": {},
   "source": [
    "## Summary\n",
    "\n",
    "While there's certainly more to do with setting up and managing this database, you got a taste for creating, populating, and maintaining databases! Feel free to continue fleshing out this exercise for more practice. "
   ]
  }
 ],
 "metadata": {
  "kernelspec": {
   "display_name": "learn_env",
   "language": "python",
   "name": "learn_env"
  },
  "language_info": {
   "codemirror_mode": {
    "name": "ipython",
    "version": 3
   },
   "file_extension": ".py",
   "mimetype": "text/x-python",
   "name": "python",
   "nbconvert_exporter": "python",
   "pygments_lexer": "ipython3",
   "version": "3.6.6"
  },
  "toc": {
   "base_numbering": 1,
   "nav_menu": {},
   "number_sections": true,
   "sideBar": true,
   "skip_h1_title": false,
   "title_cell": "Table of Contents",
   "title_sidebar": "Contents",
   "toc_cell": false,
   "toc_position": {},
   "toc_section_display": true,
   "toc_window_display": false
  },
  "varInspector": {
   "cols": {
    "lenName": 16,
    "lenType": 16,
    "lenVar": 40
   },
   "kernels_config": {
    "python": {
     "delete_cmd_postfix": "",
     "delete_cmd_prefix": "del ",
     "library": "var_list.py",
     "varRefreshCmd": "print(var_dic_list())"
    },
    "r": {
     "delete_cmd_postfix": ") ",
     "delete_cmd_prefix": "rm(",
     "library": "var_list.r",
     "varRefreshCmd": "cat(var_dic_list()) "
    }
   },
   "types_to_exclude": [
    "module",
    "function",
    "builtin_function_or_method",
    "instance",
    "_Feature"
   ],
   "window_display": true
  }
 },
 "nbformat": 4,
 "nbformat_minor": 2
}
